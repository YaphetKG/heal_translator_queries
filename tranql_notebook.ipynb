{
 "cells": [
  {
   "cell_type": "code",
   "execution_count": 1,
   "metadata": {},
   "outputs": [],
   "source": [
    "from gamma_viewer import GammaViewer\n",
    "import requests\n",
    "from IPython.display import display\n",
    "import glob\n",
    "\n",
    "tranql_url = \"https://heal-val.blackbalsam-cluster.edc.renci.org/tranql/tranql/query\"\n",
    "\n",
    "def make_query(q, tranql_url):    \n",
    "    resp = requests.post(tranql_url, data=q).json()\n",
    "    return resp\n",
    "\n",
    "def get_queries():\n",
    "    files = glob.glob('tranql_queries/*')\n",
    "    queries = []\n",
    "    for f in files:\n",
    "        with open(f) as stream:\n",
    "            queries.append(stream.read())\n",
    "    return queries\n"
   ]
  },
  {
   "cell_type": "code",
   "execution_count": 2,
   "metadata": {},
   "outputs": [],
   "source": [
    "queries = get_queries()"
   ]
  },
  {
   "cell_type": "code",
   "execution_count": 3,
   "metadata": {},
   "outputs": [],
   "source": [
    "q_responses = []\n",
    "for q in queries:\n",
    "    response = make_query(q, tranql_url)\n",
    "    q_responses.append(response)\n",
    "    "
   ]
  },
  {
   "cell_type": "code",
   "execution_count": 4,
   "metadata": {},
   "outputs": [
    {
     "name": "stdout",
     "output_type": "stream",
     "text": [
      "select lower_back_pain:phenotypic_feature<-d2:disease<-[treats]-chemical_substance->disorder_involving_pain:disease\n",
      "     from \"redis:test\"\n",
      "     where lower_back_pain='HP:0003419'\n",
      "           and disorder_involving_pain='MONDO:0021668'\n",
      "           and limit=2000    \n",
      "    \n"
     ]
    }
   ],
   "source": [
    "print(queries[0])\n",
    "view = GammaViewer(props={'data': q_responses[0]})    \n",
    "display(view)"
   ]
  },
  {
   "cell_type": "code",
   "execution_count": 5,
   "metadata": {},
   "outputs": [
    {
     "name": "stdout",
     "output_type": "stream",
     "text": [
      "\n",
      "    set shoulder_pain='HP:0030834'\n",
      "    select chemical_substance->gene->disease->pain:phenotypic_feature\n",
      "  from \"redis:test\"\n",
      " where pain=$shoulder_pain\n",
      "   and limit=200\n",
      "    \n"
     ]
    }
   ],
   "source": [
    "print(queries[1])\n",
    "view = GammaViewer(props={'data': q_responses[1]})    \n",
    "display(view)"
   ]
  },
  {
   "cell_type": "code",
   "execution_count": 6,
   "metadata": {},
   "outputs": [
    {
     "name": "stdout",
     "output_type": "stream",
     "text": [
      "\n",
      "   select chemical_substance->gene->pain_disorder:disease->phenotypic_feature\n",
      "  from \"redis:test\"\n",
      " where pain_disorder='MONDO:0021668'\n",
      "   and limit=2400\n",
      "    \n"
     ]
    }
   ],
   "source": [
    "print(queries[2])\n",
    "view = GammaViewer(props={'data': q_responses[2]})    \n",
    "display(view)"
   ]
  },
  {
   "cell_type": "code",
   "execution_count": 7,
   "metadata": {},
   "outputs": [
    {
     "name": "stdout",
     "output_type": "stream",
     "text": [
      "\n",
      "    set opitate_dependence='MONDO:0005530'\n",
      "   select chemical_substance->disease->gene<-chemical_substance\n",
      "  from \"redis:test\"\n",
      " where disease=$opiate_dependence\n",
      "   and limit=200\n",
      "    \n"
     ]
    }
   ],
   "source": [
    "print(queries[3])\n",
    "view = GammaViewer(props={'data': q_responses[3]})    \n",
    "display(view)"
   ]
  },
  {
   "cell_type": "code",
   "execution_count": 8,
   "metadata": {},
   "outputs": [
    {
     "name": "stdout",
     "output_type": "stream",
     "text": [
      "\n",
      "    set opitate_dependence='MONDO:0005530'\n",
      "   select gene<-chemical_substance->disease<-gene->chemical_substance\n",
      "  from \"redis:test\"\n",
      " where disease=$opiate_dependence\n",
      "   and limit=2000\n",
      "    \n"
     ]
    }
   ],
   "source": [
    "print(queries[4])\n",
    "view = GammaViewer(props={'data': q_responses[4]})    \n",
    "display(view)"
   ]
  },
  {
   "cell_type": "code",
   "execution_count": 9,
   "metadata": {},
   "outputs": [
    {
     "name": "stdout",
     "output_type": "stream",
     "text": [
      "\n",
      "    set shoulder_pain='HP:0030834'\n",
      "    Select chemical_substance->gene->disease->pain:phenotypic_feature\n",
      "  from \"redis:test\"\n",
      " where pain=$shoulder_pain\n",
      "   and limit=2000\n",
      "    \n"
     ]
    }
   ],
   "source": [
    "print(queries[5])\n",
    "view = GammaViewer(props={'data': q_responses[5]})    \n",
    "display(view)"
   ]
  }
 ],
 "metadata": {
  "kernelspec": {
   "display_name": "Python 3",
   "language": "python",
   "name": "python3"
  },
  "language_info": {
   "codemirror_mode": {
    "name": "ipython",
    "version": 3
   },
   "file_extension": ".py",
   "mimetype": "text/x-python",
   "name": "python",
   "nbconvert_exporter": "python",
   "pygments_lexer": "ipython3",
   "version": "3.7.4"
  }
 },
 "nbformat": 4,
 "nbformat_minor": 2
}
