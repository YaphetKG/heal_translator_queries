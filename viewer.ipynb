{
 "cells": [
  {
   "cell_type": "code",
   "execution_count": 1,
   "metadata": {},
   "outputs": [],
   "source": [
    "\n",
    "from gamma_viewer import GammaViewer\n",
    "from IPython.display import display\n",
    "import json\n",
    "    "
   ]
  },
  {
   "cell_type": "markdown",
   "metadata": {},
   "source": [
    "\n",
    "Query : \n",
    "select lower_back_pain:phenotypic_feature<-d2:disease<-[treats]-chemical_substance->disorder_involving_pain:disease\n",
    "from \"redis:test\"\n",
    "where lower_back_pain='HP:0003419'\n",
    "and disorder_involving_pain='MONDO:0021668'\n",
    "and limit=2000\n",
    "    "
   ]
  },
  {
   "cell_type": "code",
   "execution_count": 2,
   "metadata": {},
   "outputs": [],
   "source": [
    "\n",
    "with open(\"tranql_output/query1.json\") as stream:\n",
    "    data = json.load(stream)\n",
    "    viewer = GammaViewer(props={\"data\": data})\n",
    "    display(viewer)\n",
    "        "
   ]
  },
  {
   "cell_type": "markdown",
   "metadata": {},
   "source": [
    "\n",
    "Query : \n",
    "set shoulder_pain='HP:0030834'\n",
    "select chemical_substance->gene->disease->pain:phenotypic_feature\n",
    "from \"redis:test\"\n",
    "where pain=$shoulder_pain\n",
    "and limit=200\n",
    "    "
   ]
  },
  {
   "cell_type": "code",
   "execution_count": 3,
   "metadata": {},
   "outputs": [],
   "source": [
    "\n",
    "with open(\"tranql_output/query2.json\") as stream:\n",
    "    data = json.load(stream)\n",
    "    viewer = GammaViewer(props={\"data\": data})\n",
    "    display(viewer)\n",
    "        "
   ]
  },
  {
   "cell_type": "markdown",
   "metadata": {},
   "source": [
    "\n",
    "Query : \n",
    "select chemical_substance->gene->pain_disorder:disease->phenotypic_feature\n",
    "from \"redis:test\"\n",
    "where pain_disorder='MONDO:0021668'\n",
    "and limit=2400\n",
    "    "
   ]
  },
  {
   "cell_type": "code",
   "execution_count": 4,
   "metadata": {},
   "outputs": [],
   "source": [
    "\n",
    "with open(\"tranql_output/query3.json\") as stream:\n",
    "    data = json.load(stream)\n",
    "    viewer = GammaViewer(props={\"data\": data})\n",
    "    display(viewer)\n",
    "        "
   ]
  },
  {
   "cell_type": "markdown",
   "metadata": {},
   "source": [
    "\n",
    "Query : \n",
    "set opitate_dependence='MONDO:0005530'\n",
    "select chemical_substance->disease->gene<-chemical_substance\n",
    "from \"redis:test\"\n",
    "where disease=$opiate_dependence\n",
    "and limit=200\n",
    "    "
   ]
  },
  {
   "cell_type": "code",
   "execution_count": 5,
   "metadata": {},
   "outputs": [],
   "source": [
    "\n",
    "with open(\"tranql_output/query4.json\") as stream:\n",
    "    data = json.load(stream)\n",
    "    viewer = GammaViewer(props={\"data\": data})\n",
    "    display(viewer)\n",
    "        "
   ]
  },
  {
   "cell_type": "markdown",
   "metadata": {},
   "source": [
    "\n",
    "Query : \n",
    "set opitate_dependence='MONDO:0005530'\n",
    "select gene<-chemical_substance->disease<-gene->chemical_substance\n",
    "from \"redis:test\"\n",
    "where disease=$opiate_dependence\n",
    "and limit=2000\n",
    "    "
   ]
  },
  {
   "cell_type": "code",
   "execution_count": 6,
   "metadata": {},
   "outputs": [],
   "source": [
    "\n",
    "with open(\"tranql_output/query5.json\") as stream:\n",
    "    data = json.load(stream)\n",
    "    viewer = GammaViewer(props={\"data\": data})\n",
    "    display(viewer)\n",
    "        "
   ]
  },
  {
   "cell_type": "markdown",
   "metadata": {},
   "source": [
    "\n",
    "Query : \n",
    "set shoulder_pain='HP:0030834'\n",
    "Select chemical_substance->gene->disease->pain:phenotypic_feature\n",
    "from \"redis:test\"\n",
    "where pain=$shoulder_pain\n",
    "and limit=2000\n",
    "    "
   ]
  },
  {
   "cell_type": "code",
   "execution_count": null,
   "metadata": {},
   "outputs": [],
   "source": [
    "\n",
    "with open(\"tranql_output/query6.json\") as stream:\n",
    "    data = json.load(stream)\n",
    "    viewer = GammaViewer(props={\"data\": data})\n",
    "    display(viewer)\n",
    "        "
   ]
  }
 ],
 "metadata": {
  "kernelspec": {
   "display_name": "Python 3 (ipykernel)",
   "language": "python",
   "name": "python3"
  },
  "language_info": {
   "codemirror_mode": {
    "name": "ipython",
    "version": 3
   },
   "file_extension": ".py",
   "mimetype": "text/x-python",
   "name": "python",
   "nbconvert_exporter": "python",
   "pygments_lexer": "ipython3",
   "version": "3.8.0"
  }
 },
 "nbformat": 4,
 "nbformat_minor": 4
}
